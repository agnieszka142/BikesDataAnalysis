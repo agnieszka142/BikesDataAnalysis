{
 "cells": [
  {
   "cell_type": "markdown",
   "metadata": {
    "id": "xlA9shtzklog"
   },
   "source": [
    "# Statystyka i analiza danych\n",
    "\n",
    "Sprawozdanie przygotowane: Maksim Likhaivanenka 150251 I5.1 Informatyka\n",
    "\n",
    "Dane są pobrane z Wikipedii za 2018 rok, dane zebrane w sposób tablicy (ceny są powiązane z nazwami gier), dane są z obserwacji.\n",
    "\n",
    "Cel: zbadać czy kupować gry w Media Expert wygodniej niż w sklepie Play Station. "
   ]
  },
  {
   "cell_type": "markdown",
   "metadata": {
    "id": "uO48MxD99Muc"
   },
   "source": [
    "### Statystyka Opisowa\n",
    "\n",
    "W tej statystyce obliczyłem (średnią, wariancję próby, odchylenie standardowe próby). Nie obliczyłem mediany i dominanty bo one są nie potrzebne dla innych obliczeń i nie mają wpływu. \n",
    "\n",
    "Tablica z danymi: "
   ]
  },
  {
   "cell_type": "code",
   "execution_count": null,
   "metadata": {
    "colab": {
     "base_uri": "https://localhost:8080/",
     "height": 1000
    },
    "id": "MVq9cWScCAbl",
    "outputId": "55125b3b-3b30-4c77-8a3a-8da2b1754bd8"
   },
   "outputs": [
    {
     "data": {
      "text/html": [
       "<table class=\"dataframe\">\n",
       "<caption>A data.frame: 31 × 4</caption>\n",
       "<thead>\n",
       "\t<tr><th scope=col>Nazwa_Gry</th><th scope=col>Media_Expert</th><th scope=col>PlayStation</th><th scope=col>Roznica</th></tr>\n",
       "\t<tr><th scope=col>&lt;chr&gt;</th><th scope=col>&lt;dbl&gt;</th><th scope=col>&lt;dbl&gt;</th><th scope=col>&lt;dbl&gt;</th></tr>\n",
       "</thead>\n",
       "<tbody>\n",
       "\t<tr><td>Gran Turismo Sport                    </td><td>245.00</td><td>249.0</td><td> -4.00</td></tr>\n",
       "\t<tr><td>Uncharted: Lost Legacy                </td><td>134.99</td><td>169.0</td><td>-34.01</td></tr>\n",
       "\t<tr><td>Crash Bandicoot                       </td><td>149.00</td><td>169.0</td><td>-20.00</td></tr>\n",
       "\t<tr><td>DriveClub                             </td><td>104.99</td><td>125.0</td><td>-20.01</td></tr>\n",
       "\t<tr><td>inFamous: Second Son                  </td><td>134.99</td><td>169.0</td><td>-34.01</td></tr>\n",
       "\t<tr><td>Lego Marvel Super Heroes              </td><td>119.99</td><td>169.0</td><td>-49.01</td></tr>\n",
       "\t<tr><td>Rayman Legends                        </td><td> 99.99</td><td>124.0</td><td>-24.01</td></tr>\n",
       "\t<tr><td>Dirt 4                                </td><td>200.65</td><td>289.0</td><td>-88.35</td></tr>\n",
       "\t<tr><td>Alien: Isolation                      </td><td>145.99</td><td>145.0</td><td>  0.99</td></tr>\n",
       "\t<tr><td>GTA V                                 </td><td>189.99</td><td>259.0</td><td>-69.01</td></tr>\n",
       "\t<tr><td>The Order: 1886                       </td><td>139.99</td><td>169.0</td><td>-29.01</td></tr>\n",
       "\t<tr><td>The Last of Us Remastered             </td><td>149.99</td><td>169.0</td><td>-19.01</td></tr>\n",
       "\t<tr><td>Diablo3 Ultimate Edition              </td><td>109.99</td><td>149.0</td><td>-39.01</td></tr>\n",
       "\t<tr><td>Resident Evil 2 Revelations           </td><td>154.99</td><td>119.0</td><td> 35.99</td></tr>\n",
       "\t<tr><td>Agents of Mayhem                      </td><td> 89.00</td><td>124.0</td><td>-35.00</td></tr>\n",
       "\t<tr><td>Farming Simulator 2015                </td><td>147.00</td><td>124.0</td><td> 23.00</td></tr>\n",
       "\t<tr><td>Noire                                 </td><td>149.99</td><td>169.0</td><td>-19.01</td></tr>\n",
       "\t<tr><td>Sniper: Ghost Warrior 3               </td><td>164.99</td><td>145.0</td><td> 19.99</td></tr>\n",
       "\t<tr><td>Rainbow Six Siege                     </td><td>109.00</td><td>159.9</td><td>-50.90</td></tr>\n",
       "\t<tr><td>Lego Jurassic World                   </td><td>114.99</td><td>169.0</td><td>-54.01</td></tr>\n",
       "\t<tr><td>FIFA 16                               </td><td> 67.43</td><td>124.0</td><td>-56.57</td></tr>\n",
       "\t<tr><td>Need for Speed 2015                   </td><td> 79.99</td><td>124.0</td><td>-44.01</td></tr>\n",
       "\t<tr><td>Assassins Creed Syndicate             </td><td> 93.08</td><td>119.9</td><td>-26.82</td></tr>\n",
       "\t<tr><td>Tom Clancy The Division               </td><td> 99.99</td><td>199.0</td><td>-99.01</td></tr>\n",
       "\t<tr><td>God of War 3                          </td><td>139.00</td><td>145.0</td><td> -6.00</td></tr>\n",
       "\t<tr><td>Dragon Quest Heroes 2                 </td><td>199.99</td><td>249.0</td><td>-49.01</td></tr>\n",
       "\t<tr><td>Until Dawn                            </td><td>134.99</td><td>145.0</td><td>-10.01</td></tr>\n",
       "\t<tr><td>Uncharted: The Nathan Drake Collection</td><td>134.99</td><td>145.0</td><td>-10.01</td></tr>\n",
       "\t<tr><td>Mafia III                             </td><td>159.00</td><td>209.0</td><td>-50.00</td></tr>\n",
       "\t<tr><td>Star Wars Battlefront                 </td><td>149.99</td><td>124.0</td><td> 25.99</td></tr>\n",
       "\t<tr><td>Just Dance 2016                       </td><td> 79.99</td><td> 59.0</td><td> 20.99</td></tr>\n",
       "</tbody>\n",
       "</table>\n"
      ],
      "text/latex": [
       "A data.frame: 31 × 4\n",
       "\\begin{tabular}{llll}\n",
       " Nazwa\\_Gry & Media\\_Expert & PlayStation & Roznica\\\\\n",
       " <chr> & <dbl> & <dbl> & <dbl>\\\\\n",
       "\\hline\n",
       "\t Gran Turismo Sport                     & 245.00 & 249.0 &  -4.00\\\\\n",
       "\t Uncharted: Lost Legacy                 & 134.99 & 169.0 & -34.01\\\\\n",
       "\t Crash Bandicoot                        & 149.00 & 169.0 & -20.00\\\\\n",
       "\t DriveClub                              & 104.99 & 125.0 & -20.01\\\\\n",
       "\t inFamous: Second Son                   & 134.99 & 169.0 & -34.01\\\\\n",
       "\t Lego Marvel Super Heroes               & 119.99 & 169.0 & -49.01\\\\\n",
       "\t Rayman Legends                         &  99.99 & 124.0 & -24.01\\\\\n",
       "\t Dirt 4                                 & 200.65 & 289.0 & -88.35\\\\\n",
       "\t Alien: Isolation                       & 145.99 & 145.0 &   0.99\\\\\n",
       "\t GTA V                                  & 189.99 & 259.0 & -69.01\\\\\n",
       "\t The Order: 1886                        & 139.99 & 169.0 & -29.01\\\\\n",
       "\t The Last of Us Remastered              & 149.99 & 169.0 & -19.01\\\\\n",
       "\t Diablo3 Ultimate Edition               & 109.99 & 149.0 & -39.01\\\\\n",
       "\t Resident Evil 2 Revelations            & 154.99 & 119.0 &  35.99\\\\\n",
       "\t Agents of Mayhem                       &  89.00 & 124.0 & -35.00\\\\\n",
       "\t Farming Simulator 2015                 & 147.00 & 124.0 &  23.00\\\\\n",
       "\t Noire                                  & 149.99 & 169.0 & -19.01\\\\\n",
       "\t Sniper: Ghost Warrior 3                & 164.99 & 145.0 &  19.99\\\\\n",
       "\t Rainbow Six Siege                      & 109.00 & 159.9 & -50.90\\\\\n",
       "\t Lego Jurassic World                    & 114.99 & 169.0 & -54.01\\\\\n",
       "\t FIFA 16                                &  67.43 & 124.0 & -56.57\\\\\n",
       "\t Need for Speed 2015                    &  79.99 & 124.0 & -44.01\\\\\n",
       "\t Assassins Creed Syndicate              &  93.08 & 119.9 & -26.82\\\\\n",
       "\t Tom Clancy The Division                &  99.99 & 199.0 & -99.01\\\\\n",
       "\t God of War 3                           & 139.00 & 145.0 &  -6.00\\\\\n",
       "\t Dragon Quest Heroes 2                  & 199.99 & 249.0 & -49.01\\\\\n",
       "\t Until Dawn                             & 134.99 & 145.0 & -10.01\\\\\n",
       "\t Uncharted: The Nathan Drake Collection & 134.99 & 145.0 & -10.01\\\\\n",
       "\t Mafia III                              & 159.00 & 209.0 & -50.00\\\\\n",
       "\t Star Wars Battlefront                  & 149.99 & 124.0 &  25.99\\\\\n",
       "\t Just Dance 2016                        &  79.99 &  59.0 &  20.99\\\\\n",
       "\\end{tabular}\n"
      ],
      "text/markdown": [
       "\n",
       "A data.frame: 31 × 4\n",
       "\n",
       "| Nazwa_Gry &lt;chr&gt; | Media_Expert &lt;dbl&gt; | PlayStation &lt;dbl&gt; | Roznica &lt;dbl&gt; |\n",
       "|---|---|---|---|\n",
       "| Gran Turismo Sport                     | 245.00 | 249.0 |  -4.00 |\n",
       "| Uncharted: Lost Legacy                 | 134.99 | 169.0 | -34.01 |\n",
       "| Crash Bandicoot                        | 149.00 | 169.0 | -20.00 |\n",
       "| DriveClub                              | 104.99 | 125.0 | -20.01 |\n",
       "| inFamous: Second Son                   | 134.99 | 169.0 | -34.01 |\n",
       "| Lego Marvel Super Heroes               | 119.99 | 169.0 | -49.01 |\n",
       "| Rayman Legends                         |  99.99 | 124.0 | -24.01 |\n",
       "| Dirt 4                                 | 200.65 | 289.0 | -88.35 |\n",
       "| Alien: Isolation                       | 145.99 | 145.0 |   0.99 |\n",
       "| GTA V                                  | 189.99 | 259.0 | -69.01 |\n",
       "| The Order: 1886                        | 139.99 | 169.0 | -29.01 |\n",
       "| The Last of Us Remastered              | 149.99 | 169.0 | -19.01 |\n",
       "| Diablo3 Ultimate Edition               | 109.99 | 149.0 | -39.01 |\n",
       "| Resident Evil 2 Revelations            | 154.99 | 119.0 |  35.99 |\n",
       "| Agents of Mayhem                       |  89.00 | 124.0 | -35.00 |\n",
       "| Farming Simulator 2015                 | 147.00 | 124.0 |  23.00 |\n",
       "| Noire                                  | 149.99 | 169.0 | -19.01 |\n",
       "| Sniper: Ghost Warrior 3                | 164.99 | 145.0 |  19.99 |\n",
       "| Rainbow Six Siege                      | 109.00 | 159.9 | -50.90 |\n",
       "| Lego Jurassic World                    | 114.99 | 169.0 | -54.01 |\n",
       "| FIFA 16                                |  67.43 | 124.0 | -56.57 |\n",
       "| Need for Speed 2015                    |  79.99 | 124.0 | -44.01 |\n",
       "| Assassins Creed Syndicate              |  93.08 | 119.9 | -26.82 |\n",
       "| Tom Clancy The Division                |  99.99 | 199.0 | -99.01 |\n",
       "| God of War 3                           | 139.00 | 145.0 |  -6.00 |\n",
       "| Dragon Quest Heroes 2                  | 199.99 | 249.0 | -49.01 |\n",
       "| Until Dawn                             | 134.99 | 145.0 | -10.01 |\n",
       "| Uncharted: The Nathan Drake Collection | 134.99 | 145.0 | -10.01 |\n",
       "| Mafia III                              | 159.00 | 209.0 | -50.00 |\n",
       "| Star Wars Battlefront                  | 149.99 | 124.0 |  25.99 |\n",
       "| Just Dance 2016                        |  79.99 |  59.0 |  20.99 |\n",
       "\n"
      ],
      "text/plain": [
       "   Nazwa_Gry                              Media_Expert PlayStation Roznica\n",
       "1  Gran Turismo Sport                     245.00       249.0        -4.00 \n",
       "2  Uncharted: Lost Legacy                 134.99       169.0       -34.01 \n",
       "3  Crash Bandicoot                        149.00       169.0       -20.00 \n",
       "4  DriveClub                              104.99       125.0       -20.01 \n",
       "5  inFamous: Second Son                   134.99       169.0       -34.01 \n",
       "6  Lego Marvel Super Heroes               119.99       169.0       -49.01 \n",
       "7  Rayman Legends                          99.99       124.0       -24.01 \n",
       "8  Dirt 4                                 200.65       289.0       -88.35 \n",
       "9  Alien: Isolation                       145.99       145.0         0.99 \n",
       "10 GTA V                                  189.99       259.0       -69.01 \n",
       "11 The Order: 1886                        139.99       169.0       -29.01 \n",
       "12 The Last of Us Remastered              149.99       169.0       -19.01 \n",
       "13 Diablo3 Ultimate Edition               109.99       149.0       -39.01 \n",
       "14 Resident Evil 2 Revelations            154.99       119.0        35.99 \n",
       "15 Agents of Mayhem                        89.00       124.0       -35.00 \n",
       "16 Farming Simulator 2015                 147.00       124.0        23.00 \n",
       "17 Noire                                  149.99       169.0       -19.01 \n",
       "18 Sniper: Ghost Warrior 3                164.99       145.0        19.99 \n",
       "19 Rainbow Six Siege                      109.00       159.9       -50.90 \n",
       "20 Lego Jurassic World                    114.99       169.0       -54.01 \n",
       "21 FIFA 16                                 67.43       124.0       -56.57 \n",
       "22 Need for Speed 2015                     79.99       124.0       -44.01 \n",
       "23 Assassins Creed Syndicate               93.08       119.9       -26.82 \n",
       "24 Tom Clancy The Division                 99.99       199.0       -99.01 \n",
       "25 God of War 3                           139.00       145.0        -6.00 \n",
       "26 Dragon Quest Heroes 2                  199.99       249.0       -49.01 \n",
       "27 Until Dawn                             134.99       145.0       -10.01 \n",
       "28 Uncharted: The Nathan Drake Collection 134.99       145.0       -10.01 \n",
       "29 Mafia III                              159.00       209.0       -50.00 \n",
       "30 Star Wars Battlefront                  149.99       124.0        25.99 \n",
       "31 Just Dance 2016                         79.99        59.0        20.99 "
      ]
     },
     "metadata": {},
     "output_type": "display_data"
    }
   ],
   "source": [
    "      #Ceny w Media Expert\n",
    "Media_Expert <- c(245, 134.99, 149, 104.99, 134.99, 119.99, 99.99, 200.65, \n",
    "145.99, 189.99, 139.99, 149.99, 109.99, 154.99, 89,\n",
    "147, 149.99, 164.99, 109, 114.99, 67.43, 79.99, 93.08, 99.99, 139, 199.99, 134.99,\n",
    "134.99, 159, 149.99, 79.99)\n",
    "\n",
    "#Ceny w Play Station 4\n",
    "PlayStation <- c(249, 169, 169, 125, 169, 169, 124, 289, 145, 259, 169, 169, 149, 119, 124,\n",
    "124, 169, 145, 159.9, 169, 124, 124, 119.9, 199, 145, 249, 145, 145, 209, 124, 59)\n",
    "\n",
    "#Nazwy gier\n",
    "Nazwa_Gry <- c(\"Gran Turismo Sport\", \"Uncharted: Lost Legacy\", \"Crash Bandicoot \", \n",
    "\"DriveClub\", \"inFamous: Second Son\", \"Lego Marvel Super Heroes\", \"Rayman Legends\", \"Dirt 4\",\n",
    "\"Alien: Isolation\", \"GTA V\", \"The Order: 1886\", \"The Last of Us Remastered\", \"Diablo3 Ultimate Edition\",\n",
    "\"Resident Evil 2 Revelations\", \"Agents of Mayhem\", \"Farming Simulator 2015\", \"Noire\", \"Sniper: Ghost Warrior 3\",\n",
    "\"Rainbow Six Siege\", \"Lego Jurassic World\", \"FIFA 16\", \"Need for Speed 2015\", \"Assassins Creed Syndicate\", \"Tom Clancy The Division\",\n",
    "\"God of War 3\", \"Dragon Quest Heroes 2\", \"Until Dawn\", \"Uncharted: The Nathan Drake Collection\", \"Mafia III\", \"Star Wars Battlefront\",\n",
    "\"Just Dance 2016\")\n",
    "\n",
    "#Różnica cen\n",
    "Roznica <- c(Media_Expert - PlayStation)\n",
    "\n",
    "#Wizualizacja danych w formacie tablicy\n",
    "Nazwa_Gry <- data.frame(Nazwa_Gry = Nazwa_Gry, Media_Expert = Media_Expert, PlayStation = PlayStation, Roznica = Roznica) \n",
    "\n",
    "#Wyświetlanie tej tablicy\n",
    "Nazwa_Gry"
   ]
  },
  {
   "cell_type": "markdown",
   "metadata": {
    "id": "BH6Yfn-LCTdt"
   },
   "source": [
    "1. Średnia: \n",
    "\n",
    "![Średnia.png](data:image/png;base64,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)"
   ]
  },
  {
   "cell_type": "code",
   "execution_count": 24,
   "metadata": {
    "colab": {
     "base_uri": "https://localhost:8080/"
    },
    "id": "In86fHdHFWwF",
    "outputId": "fb2eed8c-166d-4199-edf1-29138c8ea480"
   },
   "outputs": [
    {
     "name": "stdout",
     "output_type": "stream",
     "text": [
      "Średnia wartość: -26.221 \n"
     ]
    }
   ],
   "source": [
    "#Ceny w Media Expert\n",
    "Media_Expert <- c(245, 134.99, 149, 104.99, 134.99, 119.99, 99.99, 200.65, \n",
    "145.99, 189.99, 139.99, 149.99, 109.99, 154.99, 89,\n",
    "147, 149.99, 164.99, 109, 114.99, 67.43, 79.99, 93.08, 99.99, 139, 199.99, 134.99,\n",
    "134.99, 159, 149.99, 79.99)\n",
    "\n",
    "#Ceny w Play Station 4\n",
    "PlayStation <- c(249, 169, 169, 125, 169, 169, 124, 289, 145, 259, 169, 169, 149, 119, 124,\n",
    "124, 169, 145, 159.9, 169, 124, 124, 119.9, 199, 145, 249, 145, 145, 209, 124, 59)\n",
    "\n",
    "#Różnica cen\n",
    "Roznica <- c(Media_Expert - PlayStation)\n",
    "\n",
    "Srednia <- c(mean(Roznica))\n",
    "cat(\"Średnia wartość:\", round(Srednia,3) ,\"\\n\")"
   ]
  },
  {
   "cell_type": "markdown",
   "metadata": {
    "id": "cKMypdmEDof2"
   },
   "source": [
    "2. Wariancja w próbie:\n",
    "\n",
    "![wariancja w probie.png](data:image/png;base64,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)"
   ]
  },
  {
   "cell_type": "code",
   "execution_count": 23,
   "metadata": {
    "colab": {
     "base_uri": "https://localhost:8080/"
    },
    "id": "E1TfmHJyFSSn",
    "outputId": "b2bc1bfe-5ac8-430c-a4af-21a04b30615f"
   },
   "outputs": [
    {
     "name": "stdout",
     "output_type": "stream",
     "text": [
      "Wariancja próby: 1044.009 \n"
     ]
    }
   ],
   "source": [
    "#Ceny w Media Expert\n",
    "Media_Expert <- c(245, 134.99, 149, 104.99, 134.99, 119.99, 99.99, 200.65, \n",
    "145.99, 189.99, 139.99, 149.99, 109.99, 154.99, 89,\n",
    "147, 149.99, 164.99, 109, 114.99, 67.43, 79.99, 93.08, 99.99, 139, 199.99, 134.99,\n",
    "134.99, 159, 149.99, 79.99)\n",
    "\n",
    "#Ceny w Play Station 4\n",
    "PlayStation <- c(249, 169, 169, 125, 169, 169, 124, 289, 145, 259, 169, 169, 149, 119, 124,\n",
    "124, 169, 145, 159.9, 169, 124, 124, 119.9, 199, 145, 249, 145, 145, 209, 124, 59)\n",
    "\n",
    "#Różnica cen\n",
    "Roznica <- c(Media_Expert - PlayStation)\n",
    "\n",
    "Srednia <- c(mean(Roznica))\n",
    "\n",
    "wariancja <- c(sum((Roznica - Srednia)^2)/(length(Roznica) - 1))\n",
    "cat(\"Wariancja próby:\", round(wariancja,3) ,\"\\n\")"
   ]
  },
  {
   "cell_type": "markdown",
   "metadata": {
    "id": "OEIRgx6gGG7t"
   },
   "source": [
    "3. Odchylenie standardowe dla próby:\n",
    "\n",
    "![odchylenie standardowe.png](data:image/png;base64,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)\n"
   ]
  },
  {
   "cell_type": "code",
   "execution_count": 22,
   "metadata": {
    "colab": {
     "base_uri": "https://localhost:8080/"
    },
    "id": "nLHIsJYLHWSe",
    "outputId": "6d46b4fe-69c0-4b50-f0bb-893937bd5837"
   },
   "outputs": [
    {
     "name": "stdout",
     "output_type": "stream",
     "text": [
      "Odchylenie standardowe próby: 32.311 \n"
     ]
    }
   ],
   "source": [
    "#Ceny w Media Expert\n",
    "Media_Expert <- c(245, 134.99, 149, 104.99, 134.99, 119.99, 99.99, 200.65, \n",
    "145.99, 189.99, 139.99, 149.99, 109.99, 154.99, 89,\n",
    "147, 149.99, 164.99, 109, 114.99, 67.43, 79.99, 93.08, 99.99, 139, 199.99, 134.99,\n",
    "134.99, 159, 149.99, 79.99)\n",
    "\n",
    "#Ceny w Play Station 4\n",
    "PlayStation <- c(249, 169, 169, 125, 169, 169, 124, 289, 145, 259, 169, 169, 149, 119, 124,\n",
    "124, 169, 145, 159.9, 169, 124, 124, 119.9, 199, 145, 249, 145, 145, 209, 124, 59)\n",
    "\n",
    "#Różnica cen\n",
    "Roznica <- c(Media_Expert - PlayStation)\n",
    "\n",
    "Srednia <- c(mean(Roznica))\n",
    "\n",
    "wariancja <- c(sum((Roznica - Srednia)^2)/(length(Roznica) - 1))\n",
    "\n",
    "odchyl_stan <- c(round(sd(Roznica), 3))\n",
    "\n",
    "cat(\"Odchylenie standardowe próby:\", round(odchyl_stan,3) ,\"\\n\")"
   ]
  },
  {
   "cell_type": "markdown",
   "metadata": {
    "id": "cuCzSSBgbD-k"
   },
   "source": [
    "Wykresy i ich analiza:"
   ]
  },
  {
   "cell_type": "code",
   "execution_count": 18,
   "metadata": {
    "colab": {
     "base_uri": "https://localhost:8080/",
     "height": 857
    },
    "id": "JHM5zHUxbJWz",
    "outputId": "3db7100d-189a-4da3-92c5-f098acc96593"
   },
   "outputs": [
    {
     "data": {
      "image/png": "[encoded data removed]",
      "text/plain": [
       "Plot with title “With breaks=4”"
      ]
     },
     "metadata": {
      "image/png": {
       "height": 420,
       "width": 420
      }
     },
     "output_type": "display_data"
    },
    {
     "data": {
      "image/png": "[encoded data removed]",
      "text/plain": [
       "Plot with title “With breaks=4”"
      ]
     },
     "metadata": {
      "image/png": {
       "height": 420,
       "width": 420
      }
     },
     "output_type": "display_data"
    }
   ],
   "source": [
    "#Ceny w Media Expert\n",
    "Media_Expert <- c(245, 134.99, 149, 104.99, 134.99, 119.99, 99.99, 200.65, \n",
    "145.99, 189.99, 139.99, 149.99, 109.99, 154.99, 89,\n",
    "147, 149.99, 164.99, 109, 114.99, 67.43, 79.99, 93.08, 99.99, 139, 199.99, 134.99,\n",
    "134.99, 159, 149.99, 79.99)\n",
    "\n",
    "#Ceny w Play Station 4\n",
    "PlayStation <- c(249, 169, 169, 125, 169, 169, 124, 289, 145, 259, 169, 169, 149, 119, 124,\n",
    "124, 169, 145, 159.9, 169, 124, 124, 119.9, 199, 145, 249, 145, 145, 209, 124, 59)\n",
    "\n",
    "hist(Media_Expert, breaks=6, main=\"With breaks=4\")\n",
    "hist(PlayStation, breaks=7, main=\"With breaks=4\")\n",
    "\n",
    "\n"
   ]
  },
  {
   "cell_type": "markdown",
   "metadata": {
    "id": "Mgr1qhC6c0zG"
   },
   "source": [
    "Z pierwszego histogramu dotyczącego cen w sklepie Media Expert widzimy, że większość cen jest w przedziale od 100 do 150 zł, jednak porównując z drugim histogramem widzimy, że nie ma tu tak dużo gier w przedziale od 200 do 250 i od 250 do 300 zł (w ogóle w naszej próbce nie ma takich cen w Media Expert). To oznacza, że gry taniej kupować w Media Expert (więcej gier w tym sklepie kosztuje mniej). \n",
    "\n",
    "Ale niestety te histogramy świadczą o tym, że układ jest skośny, tj. nie jest to układ normalny. Dlatego potrzebujemy jeszcze jednego histogramu z różnicą cen. Ten histogram jest poniżej:"
   ]
  },
  {
   "cell_type": "code",
   "execution_count": 21,
   "metadata": {
    "colab": {
     "base_uri": "https://localhost:8080/",
     "height": 437
    },
    "id": "Dmtkpb4MmGgf",
    "outputId": "0e6d9aa0-b580-43bc-ff56-a9e93ef94a53"
   },
   "outputs": [
    {
     "data": {
      "image/png": "[encoded data removed]",
      "text/plain": [
       "Plot with title “With breaks=4”"
      ]
     },
     "metadata": {
      "image/png": {
       "height": 420,
       "width": 420
      }
     },
     "output_type": "display_data"
    }
   ],
   "source": [
    "#Ceny w Media Expert\n",
    "Media_Expert <- c(245, 134.99, 149, 104.99, 134.99, 119.99, 99.99, 200.65, \n",
    "145.99, 189.99, 139.99, 149.99, 109.99, 154.99, 89,\n",
    "147, 149.99, 164.99, 109, 114.99, 67.43, 79.99, 93.08, 99.99, 139, 199.99, 134.99,\n",
    "134.99, 159, 149.99, 79.99)\n",
    "\n",
    "#Ceny w Play Station 4\n",
    "PlayStation <- c(249, 169, 169, 125, 169, 169, 124, 289, 145, 259, 169, 169, 149, 119, 124,\n",
    "124, 169, 145, 159.9, 169, 124, 124, 119.9, 199, 145, 249, 145, 145, 209, 124, 59)\n",
    "\n",
    "#Różnica cen\n",
    "Roznica <- c(Media_Expert - PlayStation)\n",
    "\n",
    "hist(Roznica, breaks=7, main=\"With breaks=4\")"
   ]
  },
  {
   "cell_type": "markdown",
   "metadata": {
    "id": "6jslN8DwnG7W"
   },
   "source": [
    "Tu widzimy, że rozkład nadal nie jest dobry, jednak próbka ma 31 element, dlatego warto byłoby wziąć jeszcze kilkanaście elementów. \n",
    "\n",
    "Zróbmy wykres końcowy, żeby już wiedzieć - ma być ten rozkład dąży do normalnego:"
   ]
  },
  {
   "cell_type": "code",
   "execution_count": 25,
   "metadata": {
    "colab": {
     "base_uri": "https://localhost:8080/",
     "height": 437
    },
    "id": "DbJygMV8oS89",
    "outputId": "9e1642b3-1408-4893-df78-163222852813"
   },
   "outputs": [
    {
     "data": {
      "image/png": "[encoded data removed]",
      "text/plain": [
       "Plot with title “Normal Q-Q Plot”"
      ]
     },
     "metadata": {
      "image/png": {
       "height": 420,
       "width": 420
      }
     },
     "output_type": "display_data"
    }
   ],
   "source": [
    "#Ceny w Media Expert\n",
    "Media_Expert <- c(245, 134.99, 149, 104.99, 134.99, 119.99, 99.99, 200.65, \n",
    "145.99, 189.99, 139.99, 149.99, 109.99, 154.99, 89,\n",
    "147, 149.99, 164.99, 109, 114.99, 67.43, 79.99, 93.08, 99.99, 139, 199.99, 134.99,\n",
    "134.99, 159, 149.99, 79.99)\n",
    "\n",
    "#Ceny w Play Station 4\n",
    "PlayStation <- c(249, 169, 169, 125, 169, 169, 124, 289, 145, 259, 169, 169, 149, 119, 124,\n",
    "124, 169, 145, 159.9, 169, 124, 124, 119.9, 199, 145, 249, 145, 145, 209, 124, 59)\n",
    "\n",
    "#Różnica cen\n",
    "Roznica <- c(Media_Expert - PlayStation)\n",
    "\n",
    "qqnorm(Roznica)\n",
    "qqline(Roznica)\n",
    "\n"
   ]
  },
  {
   "cell_type": "markdown",
   "metadata": {
    "id": "_fIoYHA9o55v"
   },
   "source": [
    "Bingo ! \n",
    "\n",
    "Tu widzimy, że rozkład dąży do normalnego, chociaż nie jest idealny, jednak mniej-bardziej stara się trymać tej linii i w samym końcu powraca do rozkładu normalnego.\n",
    "\n",
    "To oznacza, że możemy iść dalej."
   ]
  },
  {
   "cell_type": "markdown",
   "metadata": {
    "id": "PO_LsX7oIH1O"
   },
   "source": [
    "### Test T-Student. \n",
    "\n",
    "W związku z tym, że dane są sprowane - obliczyłem ich różnicę, z tej różnicy obliczyłem wartość średnią, wariancję w próbie i odchylenie standardowe w próbie.\n",
    "\n",
    "Przez tę formułę:\n",
    "\n",
    "![test T.png](data:image/png;base64,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)\n",
    "\n"
   ]
  },
  {
   "cell_type": "code",
   "execution_count": 31,
   "metadata": {
    "colab": {
     "base_uri": "https://localhost:8080/"
    },
    "id": "oULsmFQbI4xW",
    "outputId": "a2df2cb0-0ea8-425b-a796-1aa8fa643bc2"
   },
   "outputs": [
    {
     "name": "stdout",
     "output_type": "stream",
     "text": [
      "Test Tn-1, dla jednej populacji: T = -4.518 \n"
     ]
    }
   ],
   "source": [
    "#Ceny w Media Expert\n",
    "Media_Expert <- c(245, 134.99, 149, 104.99, 134.99, 119.99, 99.99, 200.65, \n",
    "145.99, 189.99, 139.99, 149.99, 109.99, 154.99, 89,\n",
    "147, 149.99, 164.99, 109, 114.99, 67.43, 79.99, 93.08, 99.99, 139, 199.99, 134.99,\n",
    "134.99, 159, 149.99, 79.99)\n",
    "\n",
    "#Ceny w Play Station 4\n",
    "PlayStation <- c(249, 169, 169, 125, 169, 169, 124, 289, 145, 259, 169, 169, 149, 119, 124,\n",
    "124, 169, 145, 159.9, 169, 124, 124, 119.9, 199, 145, 249, 145, 145, 209, 124, 59)\n",
    "\n",
    "#Różnica cen\n",
    "Roznica <- c(Media_Expert - PlayStation)\n",
    "\n",
    "Srednia <- c(mean(Roznica))\n",
    "\n",
    "wariancja <- c(sum((Roznica - Srednia)^2)/(length(Roznica) - 1))\n",
    "\n",
    "odchyl_stan <- c(sqrt(wariancja))\n",
    "\n",
    "test_T <- c((Srednia - 0)/(odchyl_stan/sqrt(length(Roznica))))\n",
    "cat(\"Test Tn-1, dla jednej populacji: T =\", round(test_T,3) ,\"\\n\")\n",
    "\n",
    "#?t.test\n"
   ]
  },
  {
   "cell_type": "markdown",
   "metadata": {
    "id": "NbGZtq2fNH-u"
   },
   "source": [
    "Przy tym teście otrzymujemy T = -4.518;\n",
    "\n",
    "Obliczymy stopni swobody to będzie ilość naszych danych -1; \n",
    "\n",
    "Otrzymujemy: 31 - 1 = 30;\n",
    "\n",
    "Z tego powodu, że chcemy zbadać, czy kupować gry w Media Expert jest wygodniej załózmy, że\n",
    "\n",
    "H0: µ = 0 (czy ceny są takie same w obydwu sklepach)\n",
    "\n",
    "H1: µ < 0 (czy ceny Media Expert są mniejsze)\n",
    "\n",
    "α = 5% = 0.05;\n",
    "\n",
    "Obliczymy dzięki poleceniu\n",
    "\n",
    "\n",
    "```\n",
    "t.test(Roznica, alternative = c(\"less\"), mu=0)\n",
    "```\n",
    "Gdzie Różnica - to są nasze dane;\n",
    "\n",
    "alternative = c(\"less\") - to oznacza, że badamy znak \"<\";\n",
    "\n",
    "mu=0 - to wartość µ którą przyjmujemy za zero przy testowaniu naszej hipotezy;\n"
   ]
  },
  {
   "cell_type": "code",
   "execution_count": 30,
   "metadata": {
    "colab": {
     "base_uri": "https://localhost:8080/",
     "height": 208
    },
    "id": "Muvh5819ts3W",
    "outputId": "93ddb713-ec4d-491f-a1e9-1ede4f21ebb9"
   },
   "outputs": [
    {
     "data": {
      "text/plain": [
       "\n",
       "\tOne Sample t-test\n",
       "\n",
       "data:  Roznica\n",
       "t = -4.5183, df = 30, p-value = 4.521e-05\n",
       "alternative hypothesis: true mean is less than 0\n",
       "95 percent confidence interval:\n",
       "      -Inf -16.37134\n",
       "sample estimates:\n",
       "mean of x \n",
       "-26.22097 \n"
      ]
     },
     "metadata": {},
     "output_type": "display_data"
    }
   ],
   "source": [
    "#Ceny w Media Expert\n",
    "Media_Expert <- c(245, 134.99, 149, 104.99, 134.99, 119.99, 99.99, 200.65, \n",
    "145.99, 189.99, 139.99, 149.99, 109.99, 154.99, 89,\n",
    "147, 149.99, 164.99, 109, 114.99, 67.43, 79.99, 93.08, 99.99, 139, 199.99, 134.99,\n",
    "134.99, 159, 149.99, 79.99)\n",
    "\n",
    "#Ceny w Play Station 4\n",
    "PlayStation <- c(249, 169, 169, 125, 169, 169, 124, 289, 145, 259, 169, 169, 149, 119, 124,\n",
    "124, 169, 145, 159.9, 169, 124, 124, 119.9, 199, 145, 249, 145, 145, 209, 124, 59)\n",
    "\n",
    "#Różnica cen\n",
    "Roznica <- c(Media_Expert - PlayStation)\n",
    "\n",
    "t.test(Roznica, alternative = c(\"less\"), mu=0) "
   ]
  }
 ],
 "metadata": {
  "colab": {
   "collapsed_sections": [],
   "name": "Projekt Siad",
   "provenance": []
  },
  "kernelspec": {
   "display_name": "R",
   "language": "R",
   "name": "ir"
  },
  "language_info": {
   "codemirror_mode": "r",
   "file_extension": ".r",
   "mimetype": "text/x-r-source",
   "name": "R",
   "pygments_lexer": "r",
   "version": "4.1.3"
  }
 },
 "nbformat": 4,
 "nbformat_minor": 1
}
