{
 "cells": [
  {
   "cell_type": "markdown",
   "id": "99105860",
   "metadata": {},
   "source": [
    "**Agnieszka Grzymska**              \n",
    "nr albumu 148295 <br>\n",
    "grupa I5.1, Informatyka"
   ]
  },
  {
   "cell_type": "markdown",
   "id": "ffc3173a",
   "metadata": {},
   "source": [
    "## 1. Opis zbioru\n",
    "\n",
    "Dane dotyczą wynajmu rowerów przez fikcyjną firmę Cyclistic w okresie od kwietnia 2021 do marca 2022.<br>\n",
    "Zbiory zawierają informacje o numerach identyfikacyjnych przejażdżek, typach wypożyczonych rowerów, datach wypożyczenia i oddania rowerów oraz nazwy, numery identyfikacyjne i współrzędne geograficzne stacji początkowych oraz końcowych.<br>\n",
    "Łącznie w 12 tabelach znajdują się 5723532 wpisy.<br>\n",
    "Dane pochodzą z obserwacji.\n",
    "\n",
    "Źródło:\n",
    "https://www.kaggle.com/datasets/evangower/cyclistic-bike-share"
   ]
  },
  {
   "cell_type": "markdown",
   "id": "71507436",
   "metadata": {},
   "source": [
    "## 2. Analiza eksploracyjna\n",
    "\n",
    "Dwoma głównymi typami wypożyczanych rowerów są **rower klasyczny** (56.7 % wszystkich wpisów) i **rower elektryczny** (37.9 %). <br>\n",
    "Przeprowadziłam analizę średnich czasów wypożyczenia obydwu rodzajów roweru, a następnie przetestowałam, czy jeden z nich ma średnio dłuższy czas."
   ]
  },
  {
   "cell_type": "markdown",
   "id": "9d487c6f",
   "metadata": {},
   "source": [
    "Najpierw wczytuję dane oraz przygotowuję funkcję zwracającą dla danego miesiąca wektor czasów wypożyczeń."
   ]
  },
  {
   "cell_type": "code",
   "execution_count": 1,
   "id": "4eadbacc",
   "metadata": {},
   "outputs": [],
   "source": [
    "april_21 <- read.csv(\"202104-divvy-tripdata.csv\")\n",
    "may_21 <- read.csv(\"202105-divvy-tripdata.csv\")\n",
    "june_21 <- read.csv(\"202106-divvy-tripdata.csv\")\n",
    "july_21 <- read.csv(\"202107-divvy-tripdata.csv\")\n",
    "august_21 <- read.csv(\"202108-divvy-tripdata.csv\")\n",
    "september_21 <- read.csv(\"202109-divvy-tripdata.csv\")\n",
    "october_21 <- read.csv(\"202110-divvy-tripdata.csv\")\n",
    "november_21 <- read.csv(\"202111-divvy-tripdata.csv\")\n",
    "december_21 <- read.csv(\"202112-divvy-tripdata.csv\")\n",
    "january_22 <- read.csv(\"202201-divvy-tripdata.csv\")\n",
    "february_22 <- read.csv(\"202202-divvy-tripdata.csv\")\n",
    "march_22 <- read.csv(\"202203-divvy-tripdata.csv\")"
   ]
  },
  {
   "cell_type": "code",
   "execution_count": 2,
   "id": "69d0663d",
   "metadata": {},
   "outputs": [],
   "source": [
    "calculate_time <- function(month) {\n",
    "    end <- as.POSIXct(month$ended_at, format=\"%Y-%m-%d %H:%M:%S\", tz=\"UTC\")\n",
    "    start <- as.POSIXct(month$started_at, format=\"%Y-%m-%d %H:%M:%S\", tz=\"UTC\")\n",
    "    time <- as.numeric(difftime(end,start), units=\"secs\")\n",
    "}"
   ]
  },
  {
   "cell_type": "markdown",
   "id": "51dfa48d",
   "metadata": {},
   "source": [
    "Następnie tworzę dwie listy zawierające czasy w konkretnych miesiącach dla roweru klasycznego i elektrycznego.<br>\n",
    "Na ich podstawie liczę średnie z każdego miesiąca. Tworzę też wektory liczby wypożyczeń każdego z dwóch rodzajów roweru."
   ]
  },
  {
   "cell_type": "code",
   "execution_count": 3,
   "id": "f5240e21",
   "metadata": {},
   "outputs": [],
   "source": [
    "total_list <- list(april_21, may_21, june_21, july_21, august_21, september_21, october_21, november_21,\n",
    "                  december_21, january_22, february_22, march_22)\n",
    "\n",
    "classic_times <- list()\n",
    "for (i in 1:12) {\n",
    "    classic_times[[i]] <- calculate_time(subset(total_list[[i]], \n",
    "                                                rideable_type == \"classic_bike\"))\n",
    "}\n",
    "\n",
    "electric_times <- list()\n",
    "for (i in 1:12) {\n",
    "    electric_times[[i]] <- calculate_time(subset(total_list[[i]], \n",
    "                                                 rideable_type == \"electric_bike\"))\n",
    "}"
   ]
  },
  {
   "cell_type": "code",
   "execution_count": 4,
   "id": "b701a700",
   "metadata": {},
   "outputs": [],
   "source": [
    "classic_monthly_avg <- vector()\n",
    "for (i in 1:12) {\n",
    "    classic_monthly_avg <- c(classic_monthly_avg, mean(unlist(classic_times[i])))\n",
    "}\n",
    "\n",
    "electric_monthly_avg <- vector()\n",
    "for (i in 1:12) {\n",
    "    electric_monthly_avg <- c(electric_monthly_avg, mean(unlist(electric_times[i])))\n",
    "}"
   ]
  },
  {
   "cell_type": "code",
   "execution_count": 5,
   "id": "e6755834",
   "metadata": {},
   "outputs": [],
   "source": [
    "classic_monthly_rents <- vector()\n",
    "for (i in 1:12) {\n",
    "    classic_monthly_rents <- c(classic_monthly_rents, length(unlist(classic_times[i])))\n",
    "}\n",
    "\n",
    "electric_monthly_rents <- vector()\n",
    "for (i in 1:12) {\n",
    "    electric_monthly_rents <- c(electric_monthly_rents, length(unlist(electric_times[i])))\n",
    "}"
   ]
  },
  {
   "cell_type": "markdown",
   "id": "72f25e1f",
   "metadata": {},
   "source": [
    "Korzystając z wyliczonych wektorów tworzę wykresy porównujące średnie czasy wypożyczenia oraz liczbę wypożyczeń roweru klasycznego i elektrycznego."
   ]
  },
  {
   "cell_type": "code",
   "execution_count": 6,
   "id": "885b2271",
   "metadata": {},
   "outputs": [
    {
     "data": {
      "image/png": "[encoded data removed]",
      "text/plain": [
       "Plot with title \"Number of rents per month\""
      ]
     },
     "metadata": {
      "image/png": {
       "height": 360,
       "width": 960
      }
     },
     "output_type": "display_data"
    }
   ],
   "source": [
    "months = c(\"April 21\", \"May 21\", \"June 21\", \"July 21\", \"August 21\", \"September 21\", \n",
    "           \"October 21\", \"November 21\",\"December 21\", \"January 22\", \"February 22\", \"March 22\")\n",
    "\n",
    "par(mfrow=c(1,2))\n",
    "options(repr.plot.width=16, repr.plot.height=6)\n",
    "\n",
    "plot(classic_monthly_avg/60, type = \"o\", col = \"blue\", main = \"Average renting time per month\",\n",
    "     xaxt = \"n\", xlab = \"\", ylab = \"Average time [min]\", lwd = 3, ylim = c(1,23))\n",
    "lines(electric_monthly_avg/60, type = \"o\", col = \"green3\", lwd = 3)\n",
    "axis(1, 1:12, labels = FALSE) \n",
    "text(x = 1:12,\n",
    "     y = par(\"usr\")[3] - 1,\n",
    "     labels = months,\n",
    "     xpd = NA,\n",
    "     srt = 35,\n",
    "     adj = 1)\n",
    "legend(0.2,6,legend=c(\"classic bike\",\"electric bike\"),col=c(\"blue\", \"green3\"),lty=1:1, cex=1.1,\n",
    "       bty='n', box.lwd=0)\n",
    "\n",
    "plot(classic_monthly_rents/1000, type = \"o\", col = \"blue\", main = \"Number of rents per month\", \n",
    "     xaxt = \"n\", xlab = \"\", ylab = \"Number of rents in thousands\", lwd = 3)\n",
    "lines(electric_monthly_rents/1000, type = \"o\", col = \"green3\", lwd = 3)\n",
    "axis(1, 1:12, labels = FALSE) \n",
    "text(x = 1:12,\n",
    "     y = par(\"usr\")[3] - 22,\n",
    "     labels = months,\n",
    "     xpd = NA,\n",
    "     srt = 35,\n",
    "     adj = 1)\n",
    "legend(6.5,500,legend=c(\"classic bike\",\"electric bike\"),col=c(\"blue\", \"green3\"),lty=1:1, \n",
    "       cex=1.1, bty='n', box.lwd=0)"
   ]
  },
  {
   "cell_type": "markdown",
   "id": "e3c3e7e8",
   "metadata": {},
   "source": [
    "Jak widać, rower klasyczny jest średnio wypożyczany na dłużej. <br>\n",
    "Z wyjątkiem miesięcy zimowych jest również wybierany znacznie częściej od elektrycznego."
   ]
  },
  {
   "cell_type": "markdown",
   "id": "bc953d74",
   "metadata": {},
   "source": [
    "Do sprawdzenia poprawności wniosków z testu statystycznego potrzebować będę średniego czasu przejazdu rowerem klasycznym i elektrycznym."
   ]
  },
  {
   "cell_type": "code",
   "execution_count": 7,
   "id": "67ab5ac4",
   "metadata": {},
   "outputs": [],
   "source": [
    "classic_renting_times <- unlist(classic_times)\n",
    "electric_renting_times <- unlist(electric_times)"
   ]
  },
  {
   "cell_type": "markdown",
   "id": "dfdc679d",
   "metadata": {},
   "source": [
    "Funkcja ```sd()``` wylicza odchylenie standardowe w próbce, dlatego w przypadku populacji mnożę wynik przez \n",
    "$\\sqrt{\\frac{n-1}{n}}$."
   ]
  },
  {
   "cell_type": "code",
   "execution_count": 8,
   "id": "3053e2e0",
   "metadata": {},
   "outputs": [
    {
     "name": "stdout",
     "output_type": "stream",
     "text": [
      "Średni czas wypożyczania roweru klasycznego: 1184.347 min z odchyleniem standardowym 3297.516 min.\n",
      "Średni czas wypożyczania roweru elektrycznego: 939.2228 min z odchyleniem standardowym 1202.942 min."
     ]
    }
   ],
   "source": [
    "classic_avg = mean(classic_renting_times)\n",
    "classic_sd <- sd(classic_renting_times)\n",
    "                *(sqrt((length(classic_renting_times)-1)/length(classic_renting_times)))\n",
    "cat(\"Średni czas wypożyczania roweru klasycznego:\", classic_avg, \n",
    "    \"min z odchyleniem standardowym\", classic_sd, \"min.\\n\")\n",
    "\n",
    "electric_avg = mean(electric_renting_times)\n",
    "electric_sd <- sd(electric_renting_times)\n",
    "                *(sqrt((length(electric_renting_times)-1)/length(electric_renting_times)))\n",
    "cat(\"Średni czas wypożyczania roweru elektrycznego:\", electric_avg, \n",
    "    \"min z odchyleniem standardowym\", electric_sd, \"min.\")"
   ]
  },
  {
   "cell_type": "markdown",
   "id": "ab7bcc49",
   "metadata": {},
   "source": [
    "## 3. Test statystyczny"
   ]
  },
  {
   "cell_type": "markdown",
   "id": "99da7c74",
   "metadata": {},
   "source": [
    "Zamierzam sprawdzić, czy średni czas jazdy jest dłuższy dla roweru klasycznego względem roweru elektrycznego.<br>\n",
    "W tym celu przeprowadzę test Z dla dwóch populacji niezależnych.<br>\n",
    "Jako, że posiadam już dane o całej populacji, wylosuję z niej po 1000 wpisów dla każdego rodzaju roweru i na jej podstawie przeprowadzę test.<br>\n",
    "Rozmiar próby jest na tyle duży, że na podstawie Centralnego Twierdzenia Klasycznego można uznać, że liczona średnia pochodzi z rozkładu normalnego."
   ]
  },
  {
   "cell_type": "code",
   "execution_count": 9,
   "id": "c9ffc430",
   "metadata": {},
   "outputs": [],
   "source": [
    "n <- 1000\n",
    "classic_sample <- sample(classic_renting_times, n)\n",
    "electric_sample <- sample(electric_renting_times, n)"
   ]
  },
  {
   "cell_type": "markdown",
   "id": "6d155170",
   "metadata": {},
   "source": [
    "Do przeprowadzenia testu konieczne będzie wyznaczenie średnich i odchyleń standardowych obydwu próbek."
   ]
  },
  {
   "cell_type": "code",
   "execution_count": 10,
   "id": "a00acd3a",
   "metadata": {},
   "outputs": [
    {
     "name": "stdout",
     "output_type": "stream",
     "text": [
      "Średni czas wypożyczenia roweru klasycznego: 1273.37 s z odchyleniem standardowym 4123.939 s.\n",
      "Średni czas wypożyczenia roweru elektrycznego: 854.32 s z odchyleniem standardowym 868.4347 s."
     ]
    }
   ],
   "source": [
    "classic_sample_avg <- mean(classic_sample)\n",
    "classic_sample_sd <- sd(classic_sample)\n",
    "\n",
    "electric_sample_avg <- mean(electric_sample)\n",
    "electric_sample_sd <- sd(electric_sample)\n",
    "\n",
    "cat(\"Średni czas wypożyczenia roweru klasycznego:\", classic_sample_avg, \n",
    "    \"s z odchyleniem standardowym\", classic_sample_sd, \"s.\\n\")\n",
    "cat(\"Średni czas wypożyczenia roweru elektrycznego:\", electric_sample_avg, \n",
    "    \"s z odchyleniem standardowym\", electric_sample_sd, \"s.\")"
   ]
  },
  {
   "cell_type": "markdown",
   "id": "bd670008",
   "metadata": {},
   "source": [
    " Zacznę od sformułowania hipotezy zerowej i alternatynej. \n",
    " \n",
    "$H_0: \\mu_c = \\mu_e$ - średni czas wypożyczenia roweru klasyczego i elektrycznego jest równy <br>\n",
    "$H_A: \\mu_c > \\mu_e$ - średni czas wypożyczenia roweru klasyczego jest większy od elektrycznego <br>"
   ]
  },
  {
   "cell_type": "markdown",
   "id": "f0c3e9ea",
   "metadata": {},
   "source": [
    "Następnie, wyznaczę zbiór krytyczny dla poziomu istotności $\\alpha = 0.01$\n",
    "\n",
    "Zbiór krytyczny: $(2.326; +\\infty)$"
   ]
  },
  {
   "cell_type": "code",
   "execution_count": 11,
   "id": "df3e1202",
   "metadata": {},
   "outputs": [
    {
     "data": {
      "text/html": [
       "-2.32634787404084"
      ],
      "text/latex": [
       "-2.32634787404084"
      ],
      "text/markdown": [
       "-2.32634787404084"
      ],
      "text/plain": [
       "[1] -2.326348"
      ]
     },
     "metadata": {},
     "output_type": "display_data"
    }
   ],
   "source": [
    "qnorm(0.01)"
   ]
  },
  {
   "cell_type": "markdown",
   "id": "4f75ee31",
   "metadata": {},
   "source": [
    "Pozostaje obliczenie wartości statystyki Z, co zrobię korzystając ze wzoru: <br>\n",
    "$Z_{\\bar{X_1} - \\bar{X_2}} = \\frac{(\\bar{X_1} - \\bar{X_2}) - (\\mu_1 - \\mu_2)}{\\sqrt{\\frac{\\sigma_1^2}{n_1} + \\frac{\\sigma_2^2}{n_2}}}$"
   ]
  },
  {
   "cell_type": "code",
   "execution_count": 12,
   "id": "0bacc4cf",
   "metadata": {},
   "outputs": [
    {
     "name": "stdout",
     "output_type": "stream",
     "text": [
      "Wartość statystyki Z: 3.144"
     ]
    }
   ],
   "source": [
    "Z <- (classic_sample_avg - electric_sample_avg)/sqrt((classic_sample_sd^2 + electric_sample_sd^2)/n)\n",
    "cat(\"Wartość statystyki Z:\", round(Z,3))"
   ]
  },
  {
   "cell_type": "markdown",
   "id": "933693c2",
   "metadata": {},
   "source": [
    "#### Wnioski\n",
    "Otrzymana wartość Z należy do zbioru krytycznego, w związku z czym **możemy odrzucić hipotezę zerową i zaakceptować hipotezę alternatywną**.<br>\n",
    "Jako, że wartości średnich czasów dla obydwu typów roweru są nam znane, możemy zauważyć, że przeprowadzony test doprowadził do poprawnych wniosków."
   ]
  }
 ],
 "metadata": {
  "kernelspec": {
   "display_name": "R",
   "language": "R",
   "name": "ir"
  },
  "language_info": {
   "codemirror_mode": "r",
   "file_extension": ".r",
   "mimetype": "text/x-r-source",
   "name": "R",
   "pygments_lexer": "r",
   "version": "4.1.3"
  }
 },
 "nbformat": 4,
 "nbformat_minor": 5
}
